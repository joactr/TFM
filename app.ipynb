{
 "cells": [
  {
   "cell_type": "code",
   "execution_count": 1,
   "metadata": {},
   "outputs": [
    {
     "name": "stderr",
     "output_type": "stream",
     "text": [
      "c:\\Users\\jmmol\\miniconda3\\envs\\alc\\lib\\site-packages\\torchvision\\models\\_utils.py:208: UserWarning: The parameter 'pretrained' is deprecated since 0.13 and may be removed in the future, please use 'weights' instead.\n",
      "  warnings.warn(\n",
      "c:\\Users\\jmmol\\miniconda3\\envs\\alc\\lib\\site-packages\\torchvision\\models\\_utils.py:223: UserWarning: Arguments other than a weight enum or `None` for 'weights' are deprecated since 0.13 and may be removed in the future. The current behavior is equivalent to passing `weights=None`.\n",
      "  warnings.warn(msg)\n"
     ]
    }
   ],
   "source": [
    "import numpy as np\n",
    "import face_detection\n",
    "import os, python_speech_features\n",
    "import scipy.io.wavfile as wav\n",
    "import pandas as pd\n",
    "import torch.nn.functional as F\n",
    "from talkNet import talkNet\n",
    "from dataset import MyDataset\n",
    "from torch.utils.data import DataLoader\n",
    "import tqdm\n",
    "import torch\n",
    "import cv2\n",
    "import tools\n",
    "import subprocess\n",
    "detector = face_detection.build_detector(\n",
    "\"DSFDDetector\", confidence_threshold=.5, nms_iou_threshold=.3)"
   ]
  },
  {
   "cell_type": "code",
   "execution_count": 2,
   "metadata": {},
   "outputs": [],
   "source": [
    "inputVideo =  \"C:/Users/jmmol/Desktop/LIP-RTVE/MP4s/speaker295/speaker295_0001.mp4\"\n",
    "#inputVideo = \"dos_personas_hablando_por_turnos.mp4\"\n",
    "videoDuration = tools.checkVideoDuration(inputVideo)\n",
    "tools.splitVideo(inputVideo,2,videoDuration)"
   ]
  },
  {
   "cell_type": "code",
   "execution_count": 3,
   "metadata": {},
   "outputs": [
    {
     "data": {
      "text/plain": [
       "(112, 112)"
      ]
     },
     "execution_count": 3,
     "metadata": {},
     "output_type": "execute_result"
    }
   ],
   "source": [
    "#Carga vídeo\n",
    "res, facePos = tools.saveFaceCrops(inputVideo,detector)\n",
    "res[0].shape"
   ]
  },
  {
   "cell_type": "code",
   "execution_count": 4,
   "metadata": {},
   "outputs": [],
   "source": [
    "# AUDIO PROCESSING\n",
    "audioPath = tools.convert_video_to_audio_ffmpeg(inputVideo)\n",
    "_,sig = wav.read(audioPath)#r\"C:\\Users\\jmmol\\Desktop\\COSAS V7\\TFM\\speaker042_0063.wav\") #\n",
    "# _,sig = wav.read(r\"C:\\Users\\jmmol\\Desktop\\COSAS V7\\TFM\\speaker000_0000.wav\") \n",
    "# audioPath = r\"C:\\Users\\jmmol\\Desktop\\COSAS V7\\TFM\\speaker000_0000.wav\"\n",
    "audio = python_speech_features.mfcc(sig, 16000, numcep = 13, winlen = 0.025, winstep = 0.010) #ASUME VIDEO A 25 Y AUDIO A 100, MODIFICAR\n",
    "\n",
    "\n",
    "#TEST\n",
    "#audio = torch.FloatTensor(audio[:180]).unsqueeze(0)\n",
    "#video = torch.FloatTensor(res[:45]).unsqueeze(0)\n"
   ]
  },
  {
   "cell_type": "code",
   "execution_count": 5,
   "metadata": {},
   "outputs": [
    {
     "name": "stdout",
     "output_type": "stream",
     "text": [
      "05-26 15:37:30 Model para number = 15.01\n"
     ]
    },
    {
     "data": {
      "text/plain": [
       "<All keys matched successfully>"
      ]
     },
     "execution_count": 5,
     "metadata": {},
     "output_type": "execute_result"
    }
   ],
   "source": [
    "model = talkNet()\n",
    "model.load_state_dict(torch.load(\"./exps/exp2/model/model_0002.model\"))"
   ]
  },
  {
   "cell_type": "code",
   "execution_count": 6,
   "metadata": {},
   "outputs": [
    {
     "name": "stdout",
     "output_type": "stream",
     "text": [
      "25 100\n"
     ]
    }
   ],
   "source": [
    "videoDir = \"C:/Users/jmmol/Desktop/COSAS V7/TFM/npz\"\n",
    "audioDir = \"C:/Users/jmmol/Desktop/COSAS V7/TFM/mfccs\"\n",
    "datasetTrain = MyDataset(51,videoDir,audioDir,\"testSamples.csv\")\n",
    "item = datasetTrain.__getitem__(4309)\n",
    "valLoader = DataLoader(dataset=datasetTrain,shuffle=False,batch_size=32,num_workers=14) #Cambiar num_workers"
   ]
  },
  {
   "cell_type": "code",
   "execution_count": 9,
   "metadata": {},
   "outputs": [
    {
     "name": "stdout",
     "output_type": "stream",
     "text": [
      "tensor([ 16.0407,   5.1092,  -7.4174,  26.3697, -21.4168, -34.9214, -26.8578,\n",
      "        -27.1986, -11.6547,  -2.2427, -25.6342, -12.2112,   4.5576]) tensor([ 16.0407,   5.1092,  -7.4174,  26.3697, -21.4168, -34.9214, -26.8578,\n",
      "        -27.1986, -11.6547,  -2.2427, -25.6342, -12.2112,   4.5576])\n",
      "Audios iguales? tensor(2652) 2652\n",
      "Videos iguales? tensor(269827) 639744\n",
      "[ 13.54920361  -1.19163837   0.22335959   7.48522507 -34.04939913\n",
      " -13.72476479   3.78442819 -15.92853244 -10.21488174  -3.14354969\n",
      "  -2.80750994   6.02800724  -7.13382001] tensor([ 11.6267,   6.2778,   2.7260,  -5.3083,  -9.2899,  -7.2238,  -8.3037,\n",
      "         -3.4917,  -6.4616, -10.6301, -17.5955,  -8.8042,  -3.2956])\n"
     ]
    }
   ],
   "source": [
    "# correctFrames, totalFrames = 0, 0\n",
    "# correctSamples, totalSamples = 0, 0\n",
    "# totalPreds = []\n",
    "# for num, (audioFeature, visualFeature, labels) in enumerate(tqdm.tqdm(valLoader)):\n",
    "#     with torch.no_grad():    \n",
    "#         output = model((audioFeature,visualFeature))\n",
    "#         labels = labels.cuda()\n",
    "#         batchPreds = torch.reshape(output[1], labels.shape)\n",
    "#         #Precision a nivel de video\n",
    "#         videoPreds = torch.mode(batchPreds,dim=1)[0]\n",
    "#         totalPreds.extend(videoPreds.detach().cpu().numpy().astype(int))\n",
    "#         labelMode = torch.mode(labels,dim=1)[0]\n",
    "#         correctSamples += (videoPreds == labelMode).sum().float()\n",
    "#         totalSamples += len(labels)\n",
    "#         # Precision a nivel de frame\n",
    "#         labels = labels.reshape((-1))\n",
    "#         correctFrames += (output[1] == labels).sum().float()\n",
    "#         totalFrames += len(labels) \n",
    "# #7865\n",
    "# print(\"Frame acc:\", correctFrames/totalFrames)\n",
    "# print(\"Sample acc:\", correctSamples/totalSamples)\n",
    "center = 47\n",
    "iAudio = tools.padAudio(audio,1,center,51,len(res))\n",
    "iVideo = tools.padVideo(res,center,51)\n",
    "print(iAudio[40],item[0][40])\n",
    "print(\"Audios iguales?\",(iAudio == item[0]).sum(),iAudio.shape[0]*iAudio.shape[1])\n",
    "print(\"Videos iguales?\",(iVideo == item[1]).sum(),iVideo.shape[0]*112*112)\n",
    "print(audio[0],item[0][0])"
   ]
  },
  {
   "cell_type": "code",
   "execution_count": null,
   "metadata": {},
   "outputs": [],
   "source": [
    "predArray = []\n",
    "for i in range(len(res)):\n",
    "    print(\"FRAME Nº \",i)\n",
    "    center = i\n",
    "    iAudio = tools.padAudio(audio,1,center,51,len(res)).unsqueeze(0)\n",
    "    iVideo = tools.padVideo(res,center,51).unsqueeze(0)\n",
    "    #print(\"audio shape: \", audio.shape)\n",
    "    #print(\"video shape: \", video.shape)\n",
    "    # iAudio = item[0].unsqueeze(0)\n",
    "    # iVideo = item[1].unsqueeze(0)\n",
    "    output = model((iAudio,iVideo))\n",
    "    #output = model((audio,video))\n",
    "    #print(output)\n",
    "    print(\"Pred ->\",torch.mode(output[1])[0])\n",
    "    print(\"Prob Pos ->\",torch.mean(output[1]))\n",
    "    predArray.append(torch.mean(output[1]).detach().cpu().numpy())"
   ]
  },
  {
   "cell_type": "code",
   "execution_count": null,
   "metadata": {},
   "outputs": [],
   "source": [
    "def createVideo(imgFrames,audioPath,width,height):\n",
    "    video = cv2.VideoWriter(\"output.mp4\", 0, 25, (width,height))\n",
    "\n",
    "    for image in imgFrames:\n",
    "        video.write(image)\n",
    "\n",
    "    cv2.destroyAllWindows()\n",
    "    video.release()\n",
    "    print(' '.join([\"ffmpeg\",\"-y\",\"-i\",os.getcwd()+\"/output.mp4\",\"-i\",audioPath,\"-map\",\"0:v\",\"-map\",\"1:a\", \"-c:v\", \"copy\", \"-shortest\", os.getcwd()+\"/output2.mp4\"]))\n",
    "    res = subprocess.check_output([\"ffmpeg\",\"-y\",\"-i\",os.getcwd()+f\"/output.mp4\",\"-i\",audioPath,\"-map\",\"0:v\",\"-map\",\"1:a\", \"-c:v\", \"copy\", \"-shortest\", os.getcwd()+f\"/outputs/{inputVideo[-19:]}\"])\n",
    "    os.remove(os.getcwd()+f\"/output.mp4\")\n",
    "    \n",
    "    print(res)"
   ]
  },
  {
   "cell_type": "code",
   "execution_count": null,
   "metadata": {},
   "outputs": [],
   "source": [
    "i=0\n",
    "cap = cv2.VideoCapture(inputVideo)\n",
    "videoImages = []\n",
    "width = int(cap.get(cv2.CAP_PROP_FRAME_WIDTH))\n",
    "height = int(cap.get(cv2.CAP_PROP_FRAME_HEIGHT))\n",
    "print(predArray)\n",
    "while i < len(predArray):\n",
    "    ret, image = cap.read()\n",
    "    greenValue = int(255*predArray[i])\n",
    "    redValue = 255-greenValue\n",
    "    color = (0,greenValue,redValue)\n",
    "    #print(color)\n",
    "    \n",
    "    xmin,ymin,xmax,ymax = facePos[i]\n",
    "    image = cv2.rectangle(image, (xmin,ymin), (xmax,ymax),color , 1)\n",
    "    cv2.putText(image, str(predArray[i]), (xmin, ymin-5), cv2.FONT_HERSHEY_SIMPLEX, 0.35, (36,255,12), 1)\n",
    "    videoImages.append(image)\n",
    "\n",
    "    # cv2.imshow(\"My Video\", image)\n",
    "    # cv2.waitKey(0)\n",
    "    i+=1\n",
    "    if ret == False:\n",
    "        break\n",
    "\n",
    "cap.release()\n",
    "cv2.destroyAllWindows()\n",
    "\n",
    "createVideo(videoImages,audioPath,width,height)"
   ]
  },
  {
   "cell_type": "code",
   "execution_count": null,
   "metadata": {},
   "outputs": [],
   "source": [
    "#print(totalPreds)\n",
    "dfPreds = pd.DataFrame(totalPreds,columns=[\"Prediction\"])\n",
    "dfSamples = pd.read_csv(\"testSamples.csv\")\n",
    "dfRes = dfSamples.join(dfPreds)\n",
    "print(dfRes)\n",
    "dfRes.to_csv(\"testPreds5.csv\")"
   ]
  },
  {
   "cell_type": "code",
   "execution_count": null,
   "metadata": {},
   "outputs": [],
   "source": [
    "dfTrain = pd.read_csv(\"trainSamples.csv\")"
   ]
  },
  {
   "cell_type": "code",
   "execution_count": null,
   "metadata": {},
   "outputs": [],
   "source": [
    "dfTrain.join(dfSamples,on=\"video\")"
   ]
  },
  {
   "cell_type": "code",
   "execution_count": null,
   "metadata": {},
   "outputs": [],
   "source": [
    "createVideo(res,audioPath,112,112)"
   ]
  },
  {
   "cell_type": "code",
   "execution_count": null,
   "metadata": {},
   "outputs": [],
   "source": []
  }
 ],
 "metadata": {
  "kernelspec": {
   "display_name": "alc",
   "language": "python",
   "name": "python3"
  },
  "language_info": {
   "codemirror_mode": {
    "name": "ipython",
    "version": 3
   },
   "file_extension": ".py",
   "mimetype": "text/x-python",
   "name": "python",
   "nbconvert_exporter": "python",
   "pygments_lexer": "ipython3",
   "version": "3.9.16"
  },
  "orig_nbformat": 4
 },
 "nbformat": 4,
 "nbformat_minor": 2
}
