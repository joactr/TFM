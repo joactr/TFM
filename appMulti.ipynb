{
 "cells": [
  {
   "cell_type": "code",
   "execution_count": 26,
   "metadata": {},
   "outputs": [
    {
     "name": "stderr",
     "output_type": "stream",
     "text": [
      "c:\\Users\\jmmol\\miniconda3\\envs\\alc\\lib\\site-packages\\torchvision\\models\\_utils.py:208: UserWarning: The parameter 'pretrained' is deprecated since 0.13 and may be removed in the future, please use 'weights' instead.\n",
      "  warnings.warn(\n",
      "c:\\Users\\jmmol\\miniconda3\\envs\\alc\\lib\\site-packages\\torchvision\\models\\_utils.py:223: UserWarning: Arguments other than a weight enum or `None` for 'weights' are deprecated since 0.13 and may be removed in the future. The current behavior is equivalent to passing `weights=None`.\n",
      "  warnings.warn(msg)\n"
     ]
    }
   ],
   "source": [
    "import numpy as np\n",
    "import face_detection\n",
    "import os, python_speech_features\n",
    "import scipy.io.wavfile as wav\n",
    "import pandas as pd\n",
    "import torch.nn.functional as F\n",
    "from talkNet import talkNet\n",
    "from dataset import MyDataset\n",
    "from torch.utils.data import DataLoader\n",
    "import tqdm\n",
    "import torch\n",
    "import cv2\n",
    "import pickle\n",
    "import tools\n",
    "import subprocess\n",
    "from collections import defaultdict\n",
    "import whisper\n",
    "detector = face_detection.build_detector(\n",
    "\"DSFDDetector\", confidence_threshold=.3, nms_iou_threshold=.5) #DSFDDetector"
   ]
  },
  {
   "cell_type": "code",
   "execution_count": 4,
   "metadata": {},
   "outputs": [],
   "source": [
    "#inputVideo = \"C:/Users/jmmol/Desktop/LIP-RTVE/MP4s/speaker092/speaker092_0002.mp4\"\n",
    "inputVideo = r\"inputs/dos_personas_hablando_por_turnos.mp4\"\n",
    "videoDuration = tools.checkVideoDuration(inputVideo)\n",
    "videoFrames = int(videoDuration*25)\n",
    "fps = 25\n",
    "#tools.splitVideo(inputVideo,2,videoDuration)"
   ]
  },
  {
   "cell_type": "code",
   "execution_count": 5,
   "metadata": {},
   "outputs": [
    {
     "name": "stdout",
     "output_type": "stream",
     "text": [
      "Nº CARAS: 3\n",
      "244\n",
      "244\n",
      "3\n"
     ]
    }
   ],
   "source": [
    "#Carga vídeo\n",
    "res, facePos, faceFrames = tools.saveMultiFace(inputVideo,detector,50)\n",
    "# AUDIO PROCESSING\n",
    "audioPath = tools.convert_video_to_audio_ffmpeg(inputVideo)\n",
    "_,sig = wav.read(audioPath)#r\"C:\\Users\\jmmol\\Desktop\\COSAS V7\\TFM\\speaker042_0063.wav\") #\n",
    "# _,sig = wav.read(r\"C:\\Users\\jmmol\\Desktop\\COSAS V7\\TFM\\speaker000_0000.wav\") \n",
    "# audioPath = r\"C:\\Users\\jmmol\\Desktop\\COSAS V7\\TFM\\speaker000_0000.wav\"\n",
    "audio = python_speech_features.mfcc(sig, 16000, numcep = 13, winlen = 0.025, winstep = 0.010) #ASUME VIDEO A 25 Y AUDIO A 100, MODIFICAR\n",
    "print(\"Nº CARAS:\",len(res))\n",
    "for cara in res.keys():\n",
    "    print(len(res[cara]))\n"
   ]
  },
  {
   "cell_type": "code",
   "execution_count": 6,
   "metadata": {},
   "outputs": [
    {
     "name": "stdout",
     "output_type": "stream",
     "text": [
      "[24, 45, 46]\n"
     ]
    }
   ],
   "source": [
    "print(faceFrames[2])\n",
    "# cv2.imshow(\"My Video\", res[3][50])\n",
    "# cv2.waitKey(0)"
   ]
  },
  {
   "cell_type": "code",
   "execution_count": 7,
   "metadata": {},
   "outputs": [
    {
     "name": "stdout",
     "output_type": "stream",
     "text": [
      "06-17 13:03:47 Model para number = 15.01\n"
     ]
    }
   ],
   "source": [
    "model = talkNet()\n",
    "#model.load_state_dict(torch.load(\"./exps/exp2/model/model_0002.model\"))\n",
    "model.load_state_dict(torch.load(\"./exps/exp1/model/model21_0006.model\"))\n",
    "windowSize = 21"
   ]
  },
  {
   "cell_type": "code",
   "execution_count": 8,
   "metadata": {},
   "outputs": [
    {
     "name": "stdout",
     "output_type": "stream",
     "text": [
      "25 100\n"
     ]
    }
   ],
   "source": [
    "videoDir = \"C:/Users/jmmol/Desktop/COSAS V7/TFM/npz\"\n",
    "audioDir = \"C:/Users/jmmol/Desktop/COSAS V7/TFM/mfccs\"\n",
    "datasetTrain = MyDataset(51,videoDir,audioDir,\"testSamples.csv\")\n",
    "item = datasetTrain.__getitem__(4309)\n",
    "valLoader = DataLoader(dataset=datasetTrain,shuffle=False,batch_size=32,num_workers=14) #Cambiar num_workers"
   ]
  },
  {
   "cell_type": "code",
   "execution_count": 9,
   "metadata": {},
   "outputs": [
    {
     "name": "stderr",
     "output_type": "stream",
     "text": [
      "c:\\Users\\jmmol\\Desktop\\COSAS V7\\TFM\\tools.py:182: UserWarning: Creating a tensor from a list of numpy.ndarrays is extremely slow. Please consider converting the list to a single numpy.ndarray with numpy.array() before converting to a tensor. (Triggered internally at C:\\actions-runner\\_work\\pytorch\\pytorch\\builder\\windows\\pytorch\\torch\\csrc\\utils\\tensor_new.cpp:248.)\n",
      "  video = torch.FloatTensor(video)\n"
     ]
    }
   ],
   "source": [
    "# correctFrames, totalFrames = 0, 0\n",
    "# correctSamples, totalSamples = 0, 0\n",
    "# totalPreds = []\n",
    "# for num, (audioFeature, visualFeature, labels) in enumerate(tqdm.tqdm(valLoader)):\n",
    "#     with torch.no_grad():    \n",
    "#         output = model((audioFeature,visualFeature))\n",
    "#         labels = labels.cuda()\n",
    "#         batchPreds = torch.reshape(output[1], labels.shape)\n",
    "#         #Precision a nivel de video\n",
    "#         videoPreds = torch.mode(batchPreds,dim=1)[0]\n",
    "#         totalPreds.extend(videoPreds.detach().cpu().numpy().astype(int))\n",
    "#         labelMode = torch.mode(labels,dim=1)[0]\n",
    "#         correctSamples += (videoPreds == labelMode).sum().float()\n",
    "#         totalSamples += len(labels)\n",
    "#         # Precision a nivel de frame\n",
    "#         labels = labels.reshape((-1))\n",
    "#         correctFrames += (output[1] == labels).sum().float()\n",
    "#         totalFrames += len(labels) \n",
    "# #7865\n",
    "# print(\"Frame acc:\", correctFrames/totalFrames)\n",
    "# print(\"Sample acc:\", correctSamples/totalSamples)\n",
    "center = 47\n",
    "iAudio = tools.padAudio(audio,1,center,51,len(res[0])).unsqueeze(0)\n",
    "iVideo = tools.padVideo(res[0],center,51).unsqueeze(0)\n",
    "# print(iAudio[40],item[0][40])\n",
    "# print(\"Audios iguales?\",(iAudio == item[0]).sum(),iAudio.shape[0]*iAudio.shape[1])\n",
    "# print(\"Videos iguales?\",(iVideo == item[1]).sum(),iVideo.shape[0]*112*112)\n",
    "# print(audio[0],item[0][0])"
   ]
  },
  {
   "cell_type": "code",
   "execution_count": 10,
   "metadata": {},
   "outputs": [
    {
     "name": "stdout",
     "output_type": "stream",
     "text": [
      "sidewindow: 10\n",
      "SPEAKER 0\n",
      "[0.004799175153796871, 0.004579463934836288, 0.0037739154494677977, 0.0038161831100781756, 0.0037051982286696638, 0.003936192759809395, 0.009205893911023935, 0.010414992852715155, 0.012577283986321589, 0.01117215189543744, 0.011490531284855863, 0.012090785480056378, 0.011347806560896085, 0.012376232178889994, 0.01337804154103707, 0.014918865792421576, 0.01608786860365176, 0.01615965004018011, 0.015131540873665741, 0.040210313425765386, 0.0814299696272264, 0.16317931774951439, 0.17759904235512797, 0.1719961929989024, 0.1215474355352569, 0.11600195302178089, 0.11630409392701806, 0.11227170798499753, 0.12846669675172687, 0.12370025623754796, 0.11491283551887166, 0.11539040810853567, 0.1310288013677315, 0.15201809321561552, 0.1233728440231567, 0.10965281860229163, 0.11888618916762202, 0.14400788304545306, 0.1354489968375964, 0.11864920182805032, 0.08370643207996448, 0.06732358195801602, 0.04046821366099394, 0.03256422807279806, 0.02611484978318504, 0.029852561110206188, 0.03160834104888651, 0.04125604726169067, 0.039499002547793725, 0.037314405381613715, 0.03219752809736468, 0.04323337492411675, 0.04405347507377203, 0.04309873795657372, 0.02679407469645888, 0.0242226192993219, 0.02063710858402392, 0.024463127188683938, 0.0250180459434944, 0.032409888709449206, 0.033661074806527136, 0.04313829185051506, 0.04076860659502023, 0.04878677133155834, 0.048660791077445045, 0.060452176519743564, 0.05909023747776787, 0.062350701848240764, 0.066196726951782, 0.06970491608050589, 0.07311497890839087, 0.07432855340631053, 0.07070297958787353, 0.06196825742250147, 0.05154947527122802, 0.04680720332244589, 0.04313010600875191, 0.03511192436645414, 0.03254080981175176, 0.031652668527344975, 0.030656301699714027, 0.02988413411065266, 0.0737765956619341, 0.14138238375320816, 0.20616401936992879, 0.24846197754406862, 0.261435327523249, 0.2658520784966026, 0.2402865553483337, 0.20508597714854965, 0.1881359807034401, 0.15532412496597442, 0.15139072394607772, 0.1360524895263298, 0.1337700725216948, 0.14199386871043576, 0.14023826816156817, 0.15158397582105607, 0.13436396951557622, 0.14955152355037776, 0.1453160992612125, 0.1377848586358616, 0.10941610390479706, 0.09029798291865038, 0.07847387937163987, 0.06520287231643741, 0.057752193775763946, 0.05238164680746958, 0.05022722163646787, 0.05678835093259242, 0.05822245629256725, 0.05719191020907002, 0.04715656049610535, 0.04059752063203334, 0.04167489803097614, 0.04228648671509912, 0.0455590841179372, 0.046982283043970466, 0.049454058776028535, 0.05405496686057992, 0.04992970041698119, 0.06408056808833808, 0.060343613039633495, 0.06322246253379707, 0.05942251894077979, 0.06116605738419264, 0.057804507742959844, 0.04432356983459359, 0.04229832185427392, 0.04271703138581199, 0.04206667923480536, 0.042650520817799464, 0.0626917103135319, 0.07447217244639719, 0.08022252724721439, 0.06732142437475748, 0.05864873523539749, 0.05146351325314099, 0.04501628922984462, 0.04388177527063353, 0.053549818308430364, 0.07587128225803576, 0.07956626798702865, 0.0861860801872289, 0.06323072773607641, 0.06231008169722324, 0.055655975212780304, 0.06835757291254309, 0.06809552560836012, 0.07912422398036091, 0.08802000031847815, 0.1023823291565665, 0.08392787399597157, 0.11506819564156548, 0.15095635816109182, 0.21519678712428575, 0.22817277202048497, 0.3218718095016073, 0.32613692884237466, 0.3582183757196005, 0.25674849170901826, 0.2579871889077819, 0.18594603772896612, 0.21887437859608738, 0.2660517163979453, 0.3473019700020719, 0.3328614894286317, 0.26945258407802763, 0.25062628461195346, 0.29041203876790345, 0.39734145779158725, 0.4626574452702264, 0.5379092378190888, 0.5622199817251323, 0.5235312526727297, 0.4798272547931619, 0.464234458269988, 0.5115872475789843, 0.5618962232651314, 0.5242977805469207, 0.5138161292059376, 0.48842004295025115, 0.5008737116250701, 0.47311658868743367, 0.47777633250055007, 0.45549081482460235, 0.4304845990702856, 0.3492072211456768, 0.30270108677382906, 0.2683051406641014, 0.2926977671989356, 0.34341029479320373, 0.4201383692667903, 0.49727191762263717, 0.5098004167528856, 0.5510243783169075, 0.511879309714337, 0.4864375026380635, 0.42248903867325416, 0.3611274291481125, 0.36115061332936427, 0.30705570555569894, 0.3033436714947174, 0.2834729962949786, 0.31845902786145175, 0.33830166562306463, 0.38426657932876973, 0.37797169113514223, 0.393528927648538, 0.3694039169009621, 0.4130320385277436, 0.3695232156562062, 0.3386012557909373, 0.27806297793811036, 0.24901610223945045, 0.23030916693473164, 0.18453624040118927, 0.2171761528311101, 0.2540610100762275, 0.3038250943341684, 0.28593620869030667, 0.24234027587512816, 0.2961021267089244, 0.2887780188526107, 0.26530953763362547, 0.17987292028166993, 0.15663964084810997, 0.14781979083761598, 0.13639880446945035, 0.3126361729464917, 0.5222138441522406, 0.7647992141779557, 0.8530382999709403, 0.9180784634086976, 0.9485102713160642, 0.9696789668279175, 0.9813045284416321, 0.9882613958426978, 0.9920067660565121, 0.9938673101676226, 0.99467473418251, 0.995468049086854, 0.9963385980814852, 0.9961800020906807, 0.9955239527118929, 0.9944149667951706, 0.9929941186830593, 0.9918807090214579, 0.9914558257742103, 0.9918107920284086, 0.7938740490568233, 0.5560955075744553, 0.2708407729317882, 0.16623722317862316, 0.08855466165558584, 0.05225072524739085, 0.02955261584599091, 0.017778157195989394, 0.01106762272816635, 0.007772814827126556, 0.005601747200932037, 0.004630648740978683, 0.004524045294627066, 0.004634524764856927, 0.004978647310454795, 0.004738165702404654, 0.004319626936296865, 0.0035416599436277783, 0.0026222562675248, 0.0021796223028648903, 0.002029112559705365, 0.002102508447847463, 0.0022460606497794675]\n",
      "SPEAKER 1\n",
      "[0.009074131492525339, 0.0061045578913763165, 0.005473820748738945, 0.004860269026830792, 0.007027368462644517, 0.009198963094688952, 0.012262193829417229, 0.011722992878563702, 0.011823222623170912, 0.013084749762179253, 0.015062873568607032, 0.02046728886970569, 0.02127528738668751, 0.03084869831204391, 0.033145080037099456, 0.0419563472809756, 0.03730682349829252, 0.035601353937490816, 0.032820772272425455, 0.21873968515518935, 0.44536839060571076, 0.7112856582925915, 0.808714757152097, 0.866346064686838, 0.872578766597859, 0.869474059369885, 0.8750783985217959, 0.9010723282024816, 0.9238420533038398, 0.9451249094013925, 0.957120554806824, 0.9654853944544973, 0.9616026794152525, 0.9583757146160214, 0.9496547130584215, 0.9403172090013804, 0.9290529032985265, 0.920449521040914, 0.9232465704162891, 0.9210849114028603, 0.9083255129585259, 0.8884559374113398, 0.8702745020109237, 0.8617482479567794, 0.8533787225857037, 0.8383549291159735, 0.8454784737714267, 0.8376838291675679, 0.841559809678375, 0.819457498139672, 0.8218595880627854, 0.8191867861713081, 0.8135560451333788, 0.8171940702587401, 0.8176139942164242, 0.8439860941915722, 0.8589747260670668, 0.8834236207129521, 0.8859812190767681, 0.8612698219847384, 0.8503707900299282, 0.8690716417091162, 0.9165342578512574, 0.9514646514391742, 0.9663503073326346, 0.9732663966577736, 0.9770964550978558, 0.9804218988690397, 0.9836130529459364, 0.9847686364430123, 0.9840035649934208, 0.9842219767367191, 0.9854328995981643, 0.9835412657943203, 0.9826416953946285, 0.9817084578917814, 0.9863552549042607, 0.9890781403939861, 0.9908739300552852, 0.9914366430708723, 0.9900233586361569, 0.9886819534778499, 0.9607695749006762, 0.9441432282106479, 0.9181771583433648, 0.9256697462370415, 0.9273857806810959, 0.9099077920329499, 0.8742635861019522, 0.8309341024397245, 0.8212891214294963, 0.7911352623351845, 0.7582940360318058, 0.7220667006424837, 0.6961639861715279, 0.6576878138841036, 0.6365891823950068, 0.6064284173298577, 0.6327133269594383, 0.6530140721626078, 0.727842835094795, 0.7402386498230625, 0.7400668403871971, 0.6981231088071276, 0.6917756489117408, 0.7028871616885797, 0.7168772246910174, 0.714522549860453, 0.6619399690628209, 0.5980453073487265, 0.5523679094216375, 0.5722588601948168, 0.6005993870882689, 0.622983767414686, 0.5727751478798085, 0.5705079508521729, 0.5759301721641514, 0.5864661755618983, 0.589819539826048, 0.5636961343858016, 0.5378887608723382, 0.49517523920635204, 0.4951123937504793, 0.5854721012144741, 0.7068506059441321, 0.821721150871571, 0.890500277705151, 0.9249208897001772, 0.9334434396807116, 0.936398205288867, 0.9396793504172557, 0.9433769748787123, 0.9392397726733293, 0.9208629586565266, 0.8893294728483075, 0.8713378360858179, 0.8610289066568203, 0.880511236598607, 0.8556321997173697, 0.859881608939831, 0.854777797684962, 0.8959584263727187, 0.9101758574252141, 0.9159489989791301, 0.919977154241379, 0.8245204762533852, 0.6707468904054028, 0.4617119292996607, 0.34223859881516583, 0.2844572503983559, 0.26474194679926255, 0.24035775433076667, 0.23071725115053585, 0.22829511307669872, 0.2581862310327409, 0.2835158776056098, 0.30661277513839097, 0.3117896005496394, 0.31807265558041614, 0.3019356980483683, 0.30582397068303224, 0.3035637287902254, 0.31595457865960513, 0.3224662120347049, 0.29856104557954344, 0.3454920195684658, 0.3190334873133924, 0.29815866162140875, 0.20229136939267311, 0.16610583981907306, 0.16701390061071703, 0.15274911629026558, 0.15194964949321074, 0.13257417986968506, 0.14553389242134623, 0.1342580059191018, 0.13475678549418138, 0.11851737067384241, 0.11106838107405506, 0.09629740712162081, 0.0879130571433199, 0.09458955822507371, 0.11555740742207121, 0.15073257427700434, 0.17285038580419348, 0.1636128272438244, 0.15652097465229767, 0.1313076876796776, 0.12940632717531458, 0.11528050263463752, 0.11827612723203665, 0.14174797865754657, 0.15843916344304573, 0.20521462885671057, 0.19784719613351998, 0.22569570302027814, 0.20629736428701267, 0.21105531156917756, 0.1953489481331979, 0.18103583363708078, 0.16173384079781566, 0.13566968132548257, 0.1222798497059745, 0.10826182215468236, 0.10434818328389361, 0.0877652993500729, 0.0932418251891411, 0.09255393670121782, 0.08760591293938899, 0.06521250970003585, 0.03805570525408889, 0.029656482485321534, 0.024818734819133763, 0.020128189994261077, 0.01780988295233351, 0.014002629396453784, 0.010812824738288184, 0.008358307413016667, 0.009112077980169489, 0.010240884307411064, 0.009781341539038337, 0.007958680447359853, 0.00626155306873383, 0.006341739832102575, 0.009402158336294878, 0.010222000616827112, 0.010824770895539062, 0.00899799835551517, 0.01084112458161229, 0.0825021321045368, 0.22072095809360706, 0.39031662083198715, 0.4484383516997307, 0.4483132343916738, 0.40887902448413477, 0.4077306828580779, 0.43523743090363853, 0.4098738029681789, 0.37231339770190713, 0.31610016069504476, 0.3113981988019261, 0.31411486884267725, 0.29352621849413063, 0.27701006260781874, 0.2713506153092876, 0.28354452895309595, 0.298452021987929, 0.30070575888624884, 0.26671191463240085, 0.23394315386819678, 0.1692133070568883, 0.11881293083281919, 0.05862828894174703, 0.03639920956427746, 0.020197534226070346, 0.012763313047570871, 0.008330172956396816, 0.006009461104202781, 0.004667339209787685, 0.00465206942402346, 0.004755406747585111, 0.0048825318224242934, 0.004704587485596883, 0.004504244676362774, 0.005495772742199232, 0.005415592983931031, 0.005676497749445251, 0.004664472581079033, 0.004899742192519275, 0.004498546601483821, 0.0058837449647768676, 0.006126962994145362, 0.007453621821895388]\n",
      "SPEAKER 2\n",
      "[0.027411622926592827, 0.030436689965426922, 0.032508569024503234, 0.03285544201731681, 0.030717060424387453, 0.025535741584002968, 0.020743488750159737, 0.017735236173927783, 0.014261507296037673, 0.013012015390303134, 0.011304350196595668, 0.010680448680804585, 0.00988271125534417, 0.011792085106865333, 0.01572928705826167, 0.02466292834795384, 0.028227964983446662, 0.031566009349869084, 0.028967457835537124, 0.025909665500503443, 0.02231092909476034, 0.01655526397658197, 0.012970713533528012, 0.009533914727547851, 0.010936968605497767, 0.012001660579613521, 0.012471230056375456, 0.009967740621425086, 0.007928844644550992, 0.0060581939959639085, 0.005333966274228869, 0.00420584221329859, 0.003657947409154552, 0.0031046310090953686, 0.0030412024419297847, 0.0025882539422631195, 0.0032516951935536663, 0.007690724825888712, 0.009930049447463857, 0.01247998519028758, 0.010705672546253169, 0.011864157216211464]\n",
      "244\n",
      "244\n",
      "3\n"
     ]
    }
   ],
   "source": [
    "totalScores = defaultdict(list)\n",
    "meanWSize = 5\n",
    "meanSideSize = int((meanWSize-1)/2)\n",
    "# MEDIA FRAMES\n",
    "# for actualSpeaker in res.keys():\n",
    "#     print(\"SPEAKER\", actualSpeaker)\n",
    "#     for i in range(len(res[actualSpeaker])):\n",
    "#         #center = i\n",
    "#         center = faceFrames[actualSpeaker][i]\n",
    "#         print(\"FRAME Nº \",center)\n",
    "#         iAudio = tools.padAudio(audio,1,center,windowSize,videoFrames).unsqueeze(0)\n",
    "#         iVideo = tools.padVideo(res[actualSpeaker],center-faceFrames[actualSpeaker][0],windowSize).unsqueeze(0)\n",
    "#         #print(\"audio shape: \", audio.shape)\n",
    "#         #print(\"video shape: \", video.shape)\n",
    "#         # iAudio = item[0].unsqueeze(0)\n",
    "#         # iVideo = item[1].unsqueeze(0)\n",
    "#         print(iAudio[0][0][0:5],iVideo[0][0][0][0:5])\n",
    "#         scores,labels= model((iAudio,iVideo))\n",
    "#         #print(output)\n",
    "#         print(\"Pred ->\",torch.mode(labels)[0],\"\\tProb Pos ->\",torch.mean(scores))\n",
    "#         predArray[actualSpeaker].append(torch.mean(labels).detach().cpu().numpy())\n",
    "\n",
    "\n",
    "# SECUENCIAL\n",
    "sideWindowSize = int((windowSize-1)/2)\n",
    "print(\"sidewindow:\",sideWindowSize)\n",
    "for actualSpeaker in res.keys():\n",
    "    print(\"SPEAKER\", actualSpeaker)\n",
    "    for i in range(0,len(res[actualSpeaker])+windowSize,windowSize):\n",
    "        #center = i\n",
    "        center = faceFrames[actualSpeaker][0]+i\n",
    "        #print(\"FRAME Nº \",center)\n",
    "        iAudio = tools.padAudio(audio,1,center,windowSize,videoFrames).unsqueeze(0)\n",
    "        iVideo = tools.padVideo(res[actualSpeaker],center-faceFrames[actualSpeaker][0],windowSize).unsqueeze(0)\n",
    "        #print(iAudio[0][0][0:5],iVideo[0][0][0][0:5])\n",
    "        scores,labels= model((iAudio,iVideo))\n",
    "        totalScores[actualSpeaker].extend(scores[:,1].detach().cpu().numpy().tolist())\n",
    "        #predArray[actualSpeaker].extend(labels.detach().cpu().numpy().tolist())\n",
    "\n",
    "    # MEAN SLIDING WINDOW\n",
    "    for i in range(len(totalScores[actualSpeaker])):\n",
    "        ini = max(0,i-meanSideSize) # No negative values\n",
    "        end = i+meanSideSize+1 # +1 as python does not take into account last value\n",
    "        #print(ini,end)\n",
    "        totalScores[actualSpeaker][i] = np.mean(totalScores[actualSpeaker][ini:end])\n",
    "    print(totalScores[actualSpeaker])\n",
    "\n",
    "predArray = defaultdict(list)\n",
    "thr = 0.5\n",
    "# APPLY THRESHOLD\n",
    "for actualSpeaker in res.keys():\n",
    "    # Delete < 0 frame predictions (initial)\n",
    "    totalScores[actualSpeaker] = totalScores[actualSpeaker][sideWindowSize:len(res[actualSpeaker])+sideWindowSize]\n",
    "    # Classify as speaking if score higher than threshold\n",
    "    for sc in totalScores[actualSpeaker]:\n",
    "        predLabel = 1 if sc > thr else 0\n",
    "        predArray[actualSpeaker].append(predLabel)\n",
    "\n",
    "    print(len(predArray[actualSpeaker]))"
   ]
  },
  {
   "cell_type": "code",
   "execution_count": 11,
   "metadata": {},
   "outputs": [],
   "source": [
    "def createVideo(videoName,imgFrames,audioPath,width,height):\n",
    "    video = cv2.VideoWriter(\"output.mp4\", 0, 25, (width,height))\n",
    "\n",
    "    for image in imgFrames:\n",
    "        video.write(image)\n",
    "\n",
    "    cv2.destroyAllWindows()\n",
    "    video.release()\n",
    "    res = subprocess.check_output([\"ffmpeg\",\"-y\",\"-i\",os.getcwd()+f\"/output.mp4\",\"-i\",audioPath,\"-map\",\"0:v\",\"-map\",\"1:a\", \"-c:v\", \"copy\", \"-shortest\", os.getcwd()+f\"/outputs/videos/{videoName}\"])\n",
    "    os.remove(os.getcwd()+f\"/output.mp4\")\n",
    "    \n",
    "    print(res)\n",
    "\n",
    "# Returns a list of [start,end] timestamps in seconds of the parts where a speaker is speaking with minimum length of minLength frames\n",
    "def getSpeaking(arr,minLength,fps):\n",
    "    prev_idx = 0\n",
    "    posFrames = 0\n",
    "    idx_list = []\n",
    "    for i,num in enumerate(arr):\n",
    "        if num == 1:\n",
    "            posFrames +=1\n",
    "        else:\n",
    "            if i-prev_idx >= minLength:\n",
    "                idx_list.append((prev_idx/fps,i/fps))\n",
    "            prev_idx = i\n",
    "            posFrames = 0\n",
    "    return idx_list\n",
    "\n",
    "def saveFullVideo(videoName):\n",
    "    cap = cv2.VideoCapture(inputVideo)\n",
    "    videoImages = []\n",
    "    width = int(cap.get(cv2.CAP_PROP_FRAME_WIDTH))\n",
    "    height = int(cap.get(cv2.CAP_PROP_FRAME_HEIGHT))\n",
    "\n",
    "    while True:\n",
    "        ret, image = cap.read()\n",
    "        videoImages.append(image)\n",
    "        if ret == False:\n",
    "            break\n",
    "\n",
    "\n",
    "    for speakerN in totalScores.keys():\n",
    "        for i, fr in enumerate(faceFrames[speakerN]): #Para cada frame en el que aparezca la cara\n",
    "            try:\n",
    "                image = videoImages[fr]\n",
    "                greenValue = int(255*predArray[speakerN][i])\n",
    "                redValue = 255-greenValue\n",
    "                color = (0,greenValue,redValue)\n",
    "                #print(color)\n",
    "                xmin,ymin,xmax,ymax = facePos[speakerN][i]\n",
    "                image = cv2.rectangle(image, (xmin,ymin), (xmax,ymax),color , 1)\n",
    "                cv2.putText(image, \"{:.2f}\".format(totalScores[speakerN][i]*100), (xmin, ymin-5), cv2.FONT_HERSHEY_SIMPLEX, 0.35, color, 1)\n",
    "            except:\n",
    "                pass\n",
    "    cap.release()\n",
    "    cv2.destroyAllWindows()\n",
    "    \n",
    "    \n",
    "    createVideo(videoName,videoImages,audioPath,width,height)"
   ]
  },
  {
   "cell_type": "code",
   "execution_count": 12,
   "metadata": {},
   "outputs": [
    {
     "name": "stdout",
     "output_type": "stream",
     "text": [
      "b''\n"
     ]
    }
   ],
   "source": [
    "#Asignación de bounding boxes y probabilidades al video de output\n",
    "os.makedirs(\"outputs/videos\", exist_ok=True)\n",
    "path = os.path.normpath(inputVideo)\n",
    "videoName = str(path.split(os.sep)[-1])\n",
    "saveFullVideo(videoName)\n",
    "\n",
    "#print(predArray[3])"
   ]
  },
  {
   "cell_type": "code",
   "execution_count": 32,
   "metadata": {},
   "outputs": [
    {
     "name": "stdout",
     "output_type": "stream",
     "text": [
      "[00:00.320 --> 00:05.500]  y la población civil de guta oriental en siria sigue sufriendo los efectos de la guerra.\n"
     ]
    },
    {
     "name": "stderr",
     "output_type": "stream",
     "text": [
      "c:\\Users\\jmmol\\miniconda3\\envs\\alc\\lib\\site-packages\\whisper\\timing.py:42: UserWarning: Failed to launch Triton kernels, likely due to missing CUDA toolkit; falling back to a slower median kernel implementation...\n",
      "  warnings.warn(\n",
      "c:\\Users\\jmmol\\miniconda3\\envs\\alc\\lib\\site-packages\\whisper\\timing.py:146: UserWarning: Failed to launch Triton kernels, likely due to missing CUDA toolkit; falling back to a slower DTW implementation...\n",
      "  warnings.warn(\n"
     ]
    }
   ],
   "source": [
    "# GUARDAR DATOS \n",
    "# COGER SOLO FRAGMENTO DE AUDIO EN EL QUE SE DETECTA HABLANTE\n",
    "os.makedirs(\"outputs/pickles\", exist_ok=True)\n",
    "model = whisper.load_model(\"small\")\n",
    "transcription = model.transcribe(audioPath, language=\"es\", verbose=True,word_timestamps=True)\n",
    "pkDict = {\"facePos\":facePos,\"faceFrames\":faceFrames,\"preds\":predArray,\"transcription\":transcription}\n",
    "with open(\"outputs/npz/\"+videoName+'.pkl', 'wb') as f:  # open a text file\n",
    "    pickle.dump(pkDict, f) # serialize the list"
   ]
  },
  {
   "cell_type": "code",
   "execution_count": null,
   "metadata": {},
   "outputs": [
    {
     "name": "stdout",
     "output_type": "stream",
     "text": [
      "[' y', ' la', ' población', ' civil', ' de', ' guta', ' oriental', ' en', ' siria', ' sigue', ' sufriendo', ' los', ' efectos', ' de', ' la', ' guerra.']\n",
      "[(0.32, 0.84), (0.84, 0.94), (0.94, 1.2), (1.2, 1.62), (1.62, 1.86), (1.86, 2.1), (2.1, 2.56), (2.56, 2.66), (2.66, 3.14), (3.14, 3.54), (3.54, 4.22), (4.22, 4.48), (4.48, 5.04), (5.04, 5.1), (5.1, 5.24), (5.24, 5.5)]\n"
     ]
    }
   ],
   "source": [
    "# EXTRAER PARTE APROPIADA DE LA TRANSCRIPCIÓN\n",
    "wordArr = []\n",
    "alignArr = []\n",
    "for seg in transcription[\"segments\"]:\n",
    "    for w in seg[\"words\"]:\n",
    "        wordArr.append(w[\"word\"])\n",
    "        alignArr.append((w[\"start\"],w[\"end\"]))\n",
    "print(wordArr)\n",
    "print(alignArr)\n",
    "pdRows = []\n",
    "\n",
    "for speakerN in totalScores.keys():\n",
    "    for (ini,end) in getSpeaking(predArray[speakerN],5,25):\n",
    "        iniW, endW = -1, -1\n",
    "        for i, (alignIni, alignEnd) in enumerate(alignArr):\n",
    "            if iniW == -1 and ini <= alignEnd and ini >= alignIni:\n",
    "                iniW = i\n",
    "            if endW == -1 and end <= alignEnd and end >= alignIni:\n",
    "                endW = i\n",
    "        if iniW > -1 and endW > -1:\n",
    "            newRow = {'video':inputVideo, 'speaker':speakerN, 'ini': ini, 'end':end, 'dataPath': \"outputs/npz/\"+videoName+\".pkl\", 'transcription':''.join(wordArr[iniW:endW+1])}\n",
    "            pdRows.append(newRow)\n",
    "\n",
    "df = pd.DataFrame(pdRows,columns=['video', 'speaker', 'ini', 'end', 'dataPath', 'transcription'])\n",
    "df.to_csv(r\"outputs/res.csv\")"
   ]
  },
  {
   "cell_type": "code",
   "execution_count": 35,
   "metadata": {},
   "outputs": [
    {
     "name": "stdout",
     "output_type": "stream",
     "text": [
      "[(215, 75, 280, 162), (215, 75, 280, 162), (214, 75, 279, 161), (213, 73, 278, 161), (212, 72, 278, 160), (211, 72, 277, 160), (211, 72, 277, 160), (211, 73, 276, 160), (210, 72, 275, 159), (209, 73, 275, 159), (209, 72, 275, 158), (208, 72, 275, 158), (208, 72, 275, 158), (208, 72, 274, 158), (208, 72, 274, 158), (208, 72, 274, 157), (208, 71, 274, 156), (208, 71, 274, 155), (208, 70, 274, 155), (208, 70, 274, 154), (208, 70, 275, 154), (209, 70, 275, 154), (210, 69, 276, 153), (211, 69, 276, 154), (211, 70, 277, 155), (212, 71, 278, 155), (213, 72, 279, 155), (214, 72, 280, 155), (215, 72, 281, 156), (216, 72, 283, 156), (217, 70, 284, 157), (218, 69, 285, 157), (220, 69, 287, 157), (221, 69, 288, 157), (222, 70, 289, 157), (223, 70, 290, 157), (224, 70, 291, 158), (224, 71, 291, 158), (225, 71, 292, 158), (226, 71, 293, 158), (227, 71, 294, 158), (228, 71, 295, 159), (228, 71, 295, 158), (229, 72, 295, 158), (229, 71, 296, 158), (229, 71, 296, 158), (229, 70, 296, 158), (229, 71, 295, 158), (228, 72, 295, 158), (227, 72, 294, 159), (227, 72, 294, 159), (226, 72, 293, 159), (226, 72, 292, 160), (225, 71, 292, 159), (225, 71, 292, 159), (225, 71, 291, 159), (225, 71, 291, 159), (224, 71, 291, 159), (224, 71, 291, 159), (224, 70, 290, 159), (223, 70, 290, 159), (223, 70, 290, 159), (223, 69, 290, 159), (223, 69, 290, 159), (222, 69, 290, 159), (222, 69, 290, 159), (223, 69, 290, 159), (223, 70, 290, 160), (223, 70, 290, 160), (223, 70, 290, 160), (223, 70, 290, 160), (223, 70, 290, 160), (223, 70, 290, 160), (223, 71, 290, 160), (223, 71, 290, 160), (223, 71, 290, 160), (223, 72, 290, 160), (223, 72, 290, 160), (222, 72, 290, 160), (222, 71, 290, 160), (222, 70, 289, 160), (222, 71, 289, 160), (222, 70, 289, 160), (222, 70, 289, 160), (221, 70, 289, 159), (221, 70, 288, 160), (221, 69, 288, 159), (221, 69, 288, 159), (220, 69, 288, 159), (220, 68, 288, 159), (220, 68, 288, 159), (220, 69, 287, 159), (219, 69, 287, 159), (219, 68, 287, 159), (219, 68, 286, 159), (218, 67, 286, 159), (218, 68, 286, 159), (218, 68, 286, 159), (219, 68, 286, 159), (218, 68, 286, 159), (218, 69, 286, 159), (219, 69, 286, 159), (219, 69, 286, 160), (219, 69, 286, 160), (219, 69, 286, 159), (219, 69, 286, 160), (219, 69, 286, 160), (220, 69, 287, 160), (220, 70, 287, 159), (219, 70, 287, 160), (219, 70, 287, 159), (220, 70, 287, 160), (220, 70, 287, 160), (220, 70, 287, 160), (220, 69, 287, 159), (220, 69, 287, 159), (220, 69, 287, 159), (220, 69, 287, 159), (220, 69, 287, 160), (220, 69, 286, 160), (219, 70, 286, 159), (219, 70, 285, 159), (218, 70, 284, 159), (217, 70, 284, 158), (217, 71, 283, 158), (216, 71, 282, 157), (216, 71, 282, 157), (215, 70, 281, 156), (215, 70, 280, 156), (214, 69, 279, 156), (213, 70, 278, 156), (213, 69, 278, 155), (213, 69, 278, 155), (212, 69, 277, 155), (211, 69, 276, 156), (211, 69, 276, 156), (210, 69, 275, 157), (210, 69, 275, 157), (209, 70, 275, 157), (208, 70, 274, 158), (208, 70, 274, 158), (207, 70, 273, 158), (207, 70, 273, 158), (206, 69, 272, 158), (206, 69, 272, 157), (207, 69, 272, 157), (207, 69, 273, 158), (207, 69, 273, 158), (208, 71, 274, 159), (209, 72, 274, 162), (210, 74, 275, 163), (210, 73, 275, 162), (210, 73, 275, 161), (210, 71, 276, 160), (211, 71, 277, 161), (212, 70, 278, 160), (214, 71, 279, 159), (215, 71, 280, 159), (215, 72, 281, 158), (216, 71, 283, 158), (217, 71, 285, 158), (218, 70, 286, 158), (220, 70, 287, 159), (222, 70, 290, 158), (224, 72, 291, 158), (225, 73, 292, 160), (227, 74, 294, 161), (228, 73, 295, 161), (230, 75, 296, 160), (230, 75, 297, 160), (231, 75, 298, 161), (232, 75, 299, 161), (232, 74, 299, 161), (232, 74, 299, 161), (232, 74, 300, 161), (232, 74, 300, 161), (232, 74, 300, 161), (232, 74, 299, 161), (232, 74, 299, 160), (232, 74, 299, 161), (231, 74, 298, 162), (231, 75, 298, 161), (231, 74, 297, 161), (231, 74, 297, 161), (230, 74, 297, 161), (230, 74, 297, 160), (230, 73, 296, 160), (229, 73, 296, 160), (228, 72, 295, 159), (228, 71, 295, 160), (227, 70, 294, 160), (226, 70, 293, 160), (226, 69, 293, 160), (225, 69, 292, 161), (225, 69, 292, 162), (225, 69, 291, 162), (224, 69, 291, 163), (224, 69, 291, 163), (224, 69, 290, 163), (224, 69, 290, 163), (223, 70, 290, 163), (223, 68, 289, 163), (222, 69, 289, 162), (221, 68, 289, 163), (221, 69, 288, 162), (220, 69, 288, 162), (220, 70, 287, 161), (219, 70, 287, 160), (219, 70, 286, 160), (219, 70, 286, 159), (219, 70, 286, 159), (219, 69, 286, 159), (219, 69, 286, 158), (219, 68, 286, 158), (220, 68, 286, 159), (220, 68, 286, 159), (220, 67, 286, 158), (220, 67, 287, 157), (221, 66, 287, 156), (221, 66, 288, 154), (221, 66, 289, 153), (222, 66, 288, 153), (222, 67, 288, 154), (222, 68, 289, 156), (223, 68, 289, 157), (223, 69, 290, 159), (224, 69, 290, 161), (224, 70, 290, 162), (224, 70, 291, 163), (225, 72, 291, 163), (226, 72, 291, 163), (226, 73, 292, 165), (226, 74, 292, 164), (227, 74, 293, 164), (227, 75, 294, 165), (228, 75, 294, 166), (228, 76, 294, 167), (228, 76, 294, 166), (228, 77, 294, 165), (228, 78, 294, 166), (228, 78, 294, 167), (228, 78, 294, 168), (228, 78, 293, 169), (227, 77, 293, 168)]\n"
     ]
    }
   ],
   "source": [
    "with open(\"outputs/npz/\"+videoName+'.pkl', 'rb') as f:  # open a text file\n",
    "    p = pickle.load(f) # serialize the list\n",
    "print(p[\"facePos\"][0])"
   ]
  },
  {
   "cell_type": "code",
   "execution_count": null,
   "metadata": {},
   "outputs": [],
   "source": []
  }
 ],
 "metadata": {
  "kernelspec": {
   "display_name": "alc",
   "language": "python",
   "name": "python3"
  },
  "language_info": {
   "codemirror_mode": {
    "name": "ipython",
    "version": 3
   },
   "file_extension": ".py",
   "mimetype": "text/x-python",
   "name": "python",
   "nbconvert_exporter": "python",
   "pygments_lexer": "ipython3",
   "version": "3.9.16"
  },
  "orig_nbformat": 4
 },
 "nbformat": 4,
 "nbformat_minor": 2
}
