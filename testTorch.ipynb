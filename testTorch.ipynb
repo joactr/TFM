{
 "cells": [
  {
   "cell_type": "code",
   "execution_count": 67,
   "metadata": {},
   "outputs": [],
   "source": [
    "import os\n",
    "import random\n",
    "import torchaudio\n",
    "import torch\n",
    "import numpy as np\n",
    "import pandas as pd\n",
    "from torch.utils.data import Dataset\n",
    "import cv2"
   ]
  },
  {
   "cell_type": "code",
   "execution_count": 63,
   "metadata": {},
   "outputs": [],
   "source": [
    "class MyDataset(Dataset):\n",
    "\n",
    "    def __init__(self, nframes, video_dir, audio_dir, csv_path):\n",
    "        \"\"\"\n",
    "            nframes: descartamos videos que superen dicho nº de frames\n",
    "            video_dir: directorio donde se encuentran almacenados los videos\n",
    "            csv_path: fichero csv que define una partición\n",
    "        \"\"\"\n",
    "        self.nframes = nframes\n",
    "        self.video_dir = video_dir\n",
    "        self.audio_dir = audio_dir\n",
    "\n",
    "        samples_data = pd.read_csv(csv_path, delimiter=\",\")\n",
    "        #if \"train\" in csv_path:\n",
    "        #    samples_data = samples_data[samples_data[\"nFrames\"]< nframes]\n",
    "        \n",
    "        self.videoIDs = samples_data[\"video\"].tolist()\n",
    "        self.audioIDs = samples_data[\"audio\"].tolist()\n",
    "        self.labels = samples_data[\"label\"].tolist()\n",
    "\n",
    "    def __len__(self):\n",
    "        return len(self.videoIDs)\n",
    "\n",
    "    def __getitem__(self, index):\n",
    "        videoID = self.videoIDs[index]\n",
    "        audioID = self.audioIDs[index]\n",
    "\n",
    "        video = self.__get_video__(videoID)\n",
    "        audio = self.__get_audio__(audioID)\n",
    "        label = self.labels[index]\n",
    "\n",
    "        return video, audio, label\n",
    "\n",
    "    def __get_video__(self, videoID):\n",
    "        spkrID = videoID.split(\"_\")[0]\n",
    "\n",
    "        video_path = os.path.join(self.video_dir, spkrID, videoID + \".npz\")\n",
    "        video = np.load(video_path)[\"images\"]\n",
    "\n",
    "        return video # (T,96,96)\n",
    "    \n",
    "    def __get_audio__(self, audioID):\n",
    "        spkrID = audioID.split(\"_\")[0]\n",
    "\n",
    "        audio_path = os.path.join(self.audio_dir, spkrID, audioID + \".npz\")\n",
    "        audio = np.load(audio_path)[\"mfcc\"]\n",
    "\n",
    "        return audio # (T,96,96)"
   ]
  },
  {
   "cell_type": "code",
   "execution_count": 64,
   "metadata": {},
   "outputs": [],
   "source": [
    "videoDir = \"C:/Users/jmmol/Desktop/COSAS V7/TFM/npz\"\n",
    "audioDir = \"C:/Users/jmmol/Desktop/COSAS V7/TFM/mfccs\"\n",
    "dataset = MyDataset(5,videoDir,audioDir,\"trainSamples.csv\")"
   ]
  },
  {
   "cell_type": "code",
   "execution_count": 65,
   "metadata": {},
   "outputs": [
    {
     "name": "stdout",
     "output_type": "stream",
     "text": [
      "116\n"
     ]
    }
   ],
   "source": [
    "item = dataset.__getitem__(99993)\n",
    "print(len(item[1]))"
   ]
  },
  {
   "cell_type": "code",
   "execution_count": 72,
   "metadata": {},
   "outputs": [
    {
     "data": {
      "text/plain": [
       "-1"
      ]
     },
     "execution_count": 72,
     "metadata": {},
     "output_type": "execute_result"
    }
   ],
   "source": [
    "cv2.imshow(\"test\",item[0][0])\n",
    "cv2.waitKey(0)"
   ]
  },
  {
   "cell_type": "code",
   "execution_count": null,
   "metadata": {},
   "outputs": [],
   "source": []
  }
 ],
 "metadata": {
  "kernelspec": {
   "display_name": "alc",
   "language": "python",
   "name": "python3"
  },
  "language_info": {
   "codemirror_mode": {
    "name": "ipython",
    "version": 3
   },
   "file_extension": ".py",
   "mimetype": "text/x-python",
   "name": "python",
   "nbconvert_exporter": "python",
   "pygments_lexer": "ipython3",
   "version": "3.9.16"
  },
  "orig_nbformat": 4
 },
 "nbformat": 4,
 "nbformat_minor": 2
}
